{
 "cells": [
  {
   "cell_type": "code",
   "execution_count": 5,
   "id": "da861d52",
   "metadata": {},
   "outputs": [
    {
     "name": "stdout",
     "output_type": "stream",
     "text": [
      "Error: Could not load the image. Please check the image path.\n"
     ]
    }
   ],
   "source": [
    "# Image Processing Task\n",
    "import cv2\n",
    "\n",
    "def edge_detection(image_path: str, output_path: str) -> None:\n",
    "    # Read the input image\n",
    "    image = cv2.imread(image_path)\n",
    "\n",
    "    if image is None:\n",
    "        print(\"Error: Could not load the image. Please check the image path.\")\n",
    "        return\n",
    "\n",
    "    # Convert the image to grayscale\n",
    "    gray_image = cv2.cvtColor(image, cv2.COLOR_BGR2GRAY)\n",
    "\n",
    "    # Apply Gaussian blur\n",
    "    blurred_image = cv2.GaussianBlur(gray_image, (5, 5), 0)\n",
    "\n",
    "    # Resize the image to a specified target size (e.g., 300x300)\n",
    "    target_size = (300, 300)\n",
    "    resized_image = cv2.resize(blurred_image, target_size)\n",
    "\n",
    "    # Apply Canny edge detector\n",
    "    edges = cv2.Canny(resized_image, 100, 200)\n",
    "\n",
    "    # Save the resulting image\n",
    "    cv2.imwrite(output_path, edges)\n",
    "\n",
    "# Example usage\n",
    "image_path = \"input_image.jpg\"\n",
    "output_path = \"output_image.jpg\"\n",
    "edge_detection(image_path, output_path)"
   ]
  },
  {
   "cell_type": "code",
   "execution_count": null,
   "id": "b350c68e",
   "metadata": {},
   "outputs": [],
   "source": []
  }
 ],
 "metadata": {
  "kernelspec": {
   "display_name": "Python 3 (ipykernel)",
   "language": "python",
   "name": "python3"
  },
  "language_info": {
   "codemirror_mode": {
    "name": "ipython",
    "version": 3
   },
   "file_extension": ".py",
   "mimetype": "text/x-python",
   "name": "python",
   "nbconvert_exporter": "python",
   "pygments_lexer": "ipython3",
   "version": "3.11.5"
  }
 },
 "nbformat": 4,
 "nbformat_minor": 5
}
